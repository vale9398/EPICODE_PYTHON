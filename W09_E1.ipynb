{
 "cells": [
  {
   "cell_type": "markdown",
   "id": "cd625db3-bf03-444c-9e06-f5db5fb12e34",
   "metadata": {},
   "source": [
    "# Esercizio 1\n",
    "Individuiamo tre task di qualsiasi tipo (fare la spesa, studiare un concetto, riempire il serbatoio dell'auto, acquistare uno snack da un distributore automatico, o qualunque altra cosa); Scriviamo un algoritmo (in forma testuale), cioè i passi necessari, per ognuno dei task selezionati."
   ]
  },
  {
   "cell_type": "markdown",
   "id": "9b55b599-5016-4c76-a0ff-57d2ba6eeb88",
   "metadata": {},
   "source": [
    "* FARE LA SPESA\n",
    "  1. Acquisire i soldi necessari\n",
    "  2. Andare al supermercato\n",
    "  3. Prendere gli oggetti\n",
    "  4. Pagare\n",
    "* FARE BENZINA\n",
    "  1. Andare dal benzinaio\n",
    "  2. Aprire il serbatoio\n",
    "  3. Prendere la pompa\n",
    "  4. Selezionare l’importo da versare\n",
    "  5. Versare il contenuto nel serbatoio\n",
    "* ACQUISTARE UNO SNACK\n",
    "  1. Arrivare al distributore\n",
    "  2. Individuare il numero corrispondente allo snack\n",
    "  3. Versare l’importo corrispondente\n",
    "  4. Prelevare lo snack\n"
   ]
  },
  {
   "cell_type": "markdown",
   "id": "610344d6-fa15-4590-a2c8-710d39b0e007",
   "metadata": {},
   "source": [
    "# Esercizio 2\n",
    "Abbiamo 25 studenti; memorizzare questo dato in una variabile e stamparla a video. Arrivano altri 3 studenti; memorizzare questo dato in un'altra variabile. Creare un'altra variabile ancora che conterrà la somma delle prime due, poi stamparla a video."
   ]
  },
  {
   "cell_type": "code",
   "execution_count": 2,
   "id": "6f1527ce-6067-441a-b5b3-49587f5e12e2",
   "metadata": {},
   "outputs": [
    {
     "name": "stdout",
     "output_type": "stream",
     "text": [
      "25\n",
      "3\n",
      "28\n"
     ]
    }
   ],
   "source": [
    "stud1 = 25\n",
    "print(stud1)\n",
    "stud2 = 3\n",
    "print(stud2)\n",
    "somma = stud1 + stud2\n",
    "print(somma)"
   ]
  },
  {
   "cell_type": "markdown",
   "id": "094e5252-8e47-4578-8bde-55ebbfdd4827",
   "metadata": {},
   "source": [
    "# Esercizio 3\n",
    "Creare una variabile che contiene la stringa \"Epicode\", quindi stamparla a video."
   ]
  },
  {
   "cell_type": "code",
   "execution_count": 3,
   "id": "7c41d52e-216f-4e3d-bae0-2943cc9cbc46",
   "metadata": {},
   "outputs": [
    {
     "name": "stdout",
     "output_type": "stream",
     "text": [
      "Epicode\n"
     ]
    }
   ],
   "source": [
    "parola = \"Epicode\"\n",
    "print(parola)"
   ]
  },
  {
   "cell_type": "markdown",
   "id": "eaadda67-6e0b-4261-b81f-e365b78a090e",
   "metadata": {},
   "source": [
    "# Esercizio 4\n",
    "Abbiamo la variabile: x = 10, incrementarla di 2 e poi moltiplicarla per 3.\n",
    "Usare due metodi diversi (ad esempio, uno utilizzando gli operatori di assegnazione, e uno senza)."
   ]
  },
  {
   "cell_type": "code",
   "execution_count": 4,
   "id": "05242222-c01b-4c09-9443-8323d6484ccf",
   "metadata": {},
   "outputs": [
    {
     "name": "stdout",
     "output_type": "stream",
     "text": [
      "36\n"
     ]
    }
   ],
   "source": [
    "#metodo 1\n",
    "x = 10\n",
    "x = (x + 2) * 3\n",
    "print(x)"
   ]
  },
  {
   "cell_type": "code",
   "execution_count": 6,
   "id": "3ef5fd46-1362-4aa2-a51b-a016a835693a",
   "metadata": {},
   "outputs": [
    {
     "data": {
      "text/plain": [
       "36"
      ]
     },
     "execution_count": 6,
     "metadata": {},
     "output_type": "execute_result"
    }
   ],
   "source": [
    "#metodo 2\n",
    "x = 10\n",
    "(x + 2) * 3"
   ]
  },
  {
   "cell_type": "markdown",
   "id": "979b49f8-5466-4642-b165-bdb9b332862b",
   "metadata": {},
   "source": [
    "# Esercizio 5\n",
    "Verificare, per ognuna delle seguenti stringhe, se il numero di caratteri è compreso tra 5 e 8: \n",
    "* str1 = \"Windows\"\n",
    "* str2 = \"Excel\"\n",
    "* str3 = \"Powerpoint\"\n",
    "* str4 = \"Word\""
   ]
  },
  {
   "cell_type": "code",
   "execution_count": 15,
   "id": "91f39a66-cf5f-4e16-b2ab-ff3d5e893307",
   "metadata": {},
   "outputs": [
    {
     "name": "stdout",
     "output_type": "stream",
     "text": [
      "La stringa \"Windows\" ha un numero di caratteri compreso fra 5 e 8\n",
      "La stringa \"Excel\" ha un numero di caratteri compreso fra 5 e 8\n"
     ]
    }
   ],
   "source": [
    "str1 = \"Windows\"\n",
    "str2 = \"Excel\"\n",
    "str3 = \"Powerpoint\"\n",
    "str4 = \"Word\"\n",
    "stringhe = [str1, str2, str3, str4]\n",
    "for parola in stringhe:\n",
    "    if (len(parola) >= 5) & (len(parola) <= 8):\n",
    "        print('La stringa \"', parola, '\" ha un numero di caratteri compreso fra 5 e 8', sep = \"\")"
   ]
  },
  {
   "cell_type": "markdown",
   "id": "fd1197ef-ad81-4fd6-92f0-ed029fe08fa1",
   "metadata": {},
   "source": [
    "# Esercizio 6\n",
    "Calcolare e stampare a video quanti secondi ci sono in un anno non bisestile."
   ]
  },
  {
   "cell_type": "code",
   "execution_count": 17,
   "id": "4e8897ca-a294-4758-8cf6-3feda62b6d53",
   "metadata": {},
   "outputs": [
    {
     "name": "stdout",
     "output_type": "stream",
     "text": [
      "In un anno non bisestile ci sono 31536000 secondi\n"
     ]
    }
   ],
   "source": [
    "giorni = 365\n",
    "ore = 24\n",
    "minuti = 60\n",
    "secondi = 60\n",
    "secondi_anno = giorni * ore * minuti * secondi\n",
    "print(\"In un anno non bisestile ci sono\", secondi_anno, \"secondi\")"
   ]
  },
  {
   "cell_type": "markdown",
   "id": "76250142-8c29-41f2-a395-3ab33af660f8",
   "metadata": {},
   "source": [
    "# Esercizio 7\n",
    "Abbiamo la seguente stringa: my_string = \"I am studying Python\"\n",
    "* Trasformarla in modo che tutti i caratteri siano maiuscoli (uppercase)\n",
    "* Trasformarla in modo che tutti i caratteri siano minuscoli (lowercase)\n",
    "* Sostituire la sottostringa \"Python\" con la stringa \"a lot\"\n",
    "* Usare il metodo .strip(); cambia qualcosa? Perché?"
   ]
  },
  {
   "cell_type": "code",
   "execution_count": 24,
   "id": "254bb8fb-b4fc-45cc-80cb-0b129831316a",
   "metadata": {},
   "outputs": [
    {
     "data": {
      "text/plain": [
       "'I AM STUDYING PYTHON'"
      ]
     },
     "execution_count": 24,
     "metadata": {},
     "output_type": "execute_result"
    }
   ],
   "source": [
    "my_string = \"I am studying Python\"\n",
    "my_string.upper()"
   ]
  },
  {
   "cell_type": "code",
   "execution_count": 25,
   "id": "73f7faf1-a378-4a65-bd15-c93ff36a05b5",
   "metadata": {},
   "outputs": [
    {
     "data": {
      "text/plain": [
       "'i am studying python'"
      ]
     },
     "execution_count": 25,
     "metadata": {},
     "output_type": "execute_result"
    }
   ],
   "source": [
    "my_string.lower()"
   ]
  },
  {
   "cell_type": "code",
   "execution_count": 23,
   "id": "1dd7e646-8af1-421b-9f46-0a87f4d3ff8e",
   "metadata": {},
   "outputs": [
    {
     "data": {
      "text/plain": [
       "'I am studying a lot'"
      ]
     },
     "execution_count": 23,
     "metadata": {},
     "output_type": "execute_result"
    }
   ],
   "source": [
    "my_string.replace(\"Python\", \"a lot\")"
   ]
  },
  {
   "cell_type": "code",
   "execution_count": 26,
   "id": "c2ff59e0-c133-4877-a7d8-733c5f5a511c",
   "metadata": {},
   "outputs": [
    {
     "data": {
      "text/plain": [
       "'I am studying Python'"
      ]
     },
     "execution_count": 26,
     "metadata": {},
     "output_type": "execute_result"
    }
   ],
   "source": [
    "my_string.strip()"
   ]
  },
  {
   "cell_type": "code",
   "execution_count": 27,
   "id": "4e9f845e-ceaa-4c38-b6f6-6c5aed81b3c4",
   "metadata": {},
   "outputs": [],
   "source": [
    "#non cambia niente perchè la stringa già in partenza non aveva spazi vuoti all'inizio e alla fine"
   ]
  }
 ],
 "metadata": {
  "kernelspec": {
   "display_name": "Python 3 (ipykernel)",
   "language": "python",
   "name": "python3"
  },
  "language_info": {
   "codemirror_mode": {
    "name": "ipython",
    "version": 3
   },
   "file_extension": ".py",
   "mimetype": "text/x-python",
   "name": "python",
   "nbconvert_exporter": "python",
   "pygments_lexer": "ipython3",
   "version": "3.11.7"
  }
 },
 "nbformat": 4,
 "nbformat_minor": 5
}
