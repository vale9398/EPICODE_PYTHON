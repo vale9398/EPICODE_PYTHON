{
 "cells": [
  {
   "cell_type": "markdown",
   "id": "aca79813-d6bb-48ed-b6d8-b8a7c7d3e7a6",
   "metadata": {},
   "source": [
    "# Esercizio 1\n",
    "Abbiamo la stringa: nome_scuola = \"Epicode\", stampare ogni carattere della stringa, uno su ogni riga, utilizzando un costrutto while"
   ]
  },
  {
   "cell_type": "code",
   "execution_count": 9,
   "id": "ab35a85d-1006-4645-b2b1-1f12c3a5dfd3",
   "metadata": {},
   "outputs": [
    {
     "name": "stdout",
     "output_type": "stream",
     "text": [
      "E\n",
      "p\n",
      "i\n",
      "c\n",
      "o\n",
      "d\n",
      "e\n"
     ]
    }
   ],
   "source": [
    "nome_scuola = 'Epicode'\n",
    "i = 0\n",
    "while i < len(nome_scuola):\n",
    "    print(nome_scuola[i])\n",
    "    i += 1"
   ]
  },
  {
   "cell_type": "markdown",
   "id": "35d48ee4-2a0f-4932-82d2-5bd5b42abd95",
   "metadata": {},
   "source": [
    "# Esercizio 2\n",
    "Stampare a video tutti i numeri da 0 a 20 utilizzando il costrutto while. "
   ]
  },
  {
   "cell_type": "code",
   "execution_count": 8,
   "id": "92262cee-538a-4dad-b73c-b738bb895d71",
   "metadata": {},
   "outputs": [
    {
     "name": "stdout",
     "output_type": "stream",
     "text": [
      "0\n",
      "1\n",
      "2\n",
      "3\n",
      "4\n",
      "5\n",
      "6\n",
      "7\n",
      "8\n",
      "9\n",
      "10\n",
      "11\n",
      "12\n",
      "13\n",
      "14\n",
      "15\n",
      "16\n",
      "17\n",
      "18\n",
      "19\n",
      "20\n"
     ]
    }
   ],
   "source": [
    "i = 0\n",
    "num_max = 20\n",
    "while i <= num_max:\n",
    "    print(i)\n",
    "    i += 1"
   ]
  },
  {
   "cell_type": "markdown",
   "id": "5d737c20-4be9-423d-80a0-c4d019500550",
   "metadata": {},
   "source": [
    "# Esercizio 3\n",
    "Calcolare e stampare tutte le prime 10 potenze di 2 (e.g., 2⁰, 2¹, 2², …) utilizzando un ciclo while."
   ]
  },
  {
   "cell_type": "code",
   "execution_count": 12,
   "id": "e2dc49b5-582d-47c8-8d30-74d9d5a2847b",
   "metadata": {},
   "outputs": [
    {
     "name": "stdout",
     "output_type": "stream",
     "text": [
      "2^0 = 1\n",
      "2^1 = 2\n",
      "2^2 = 4\n",
      "2^3 = 8\n",
      "2^4 = 16\n",
      "2^5 = 32\n",
      "2^6 = 64\n",
      "2^7 = 128\n",
      "2^8 = 256\n",
      "2^9 = 512\n"
     ]
    }
   ],
   "source": [
    "esp = 0\n",
    "base = 2\n",
    "n_max = 10\n",
    "while esp < n_max:\n",
    "    print(\"2^\", esp, \" = \", base**esp, sep = \"\")\n",
    "    esp += 1"
   ]
  },
  {
   "cell_type": "markdown",
   "id": "a1f0f4f6-d9c2-4b94-8a66-f31a924157c5",
   "metadata": {},
   "source": [
    "# Esercizio 4\n",
    "Calcolare e stampare tutte le prime N potenze di 2 utilizzando un ciclo while, domandando all'utente di inserire N."
   ]
  },
  {
   "cell_type": "code",
   "execution_count": 13,
   "id": "c62188ff-09a4-4742-b0bb-d69adee32160",
   "metadata": {},
   "outputs": [
    {
     "name": "stdin",
     "output_type": "stream",
     "text": [
      "Inserisci N: 5\n"
     ]
    },
    {
     "name": "stdout",
     "output_type": "stream",
     "text": [
      "2^0 = 1\n",
      "2^1 = 2\n",
      "2^2 = 4\n",
      "2^3 = 8\n",
      "2^4 = 16\n"
     ]
    }
   ],
   "source": [
    "N = input(\"Inserisci N:\")\n",
    "N = int(N)\n",
    "esp = 0\n",
    "base = 2\n",
    "while esp < N:\n",
    "    print(\"2^\", esp, \" = \", base**esp, sep = \"\")\n",
    "    esp += 1"
   ]
  },
  {
   "cell_type": "markdown",
   "id": "d2f7bb66-4d66-4cac-ae78-e070255f3345",
   "metadata": {},
   "source": [
    "# Esercizio 5\n",
    "Calcolare e stampare tutte le potenze di 2 minori di 25000"
   ]
  },
  {
   "cell_type": "code",
   "execution_count": 19,
   "id": "4f78bada-4533-4879-9658-0424e02365e8",
   "metadata": {},
   "outputs": [
    {
     "name": "stdout",
     "output_type": "stream",
     "text": [
      "2^0 = 1\n",
      "2^1 = 2\n",
      "2^2 = 4\n",
      "2^3 = 8\n",
      "2^4 = 16\n",
      "2^5 = 32\n",
      "2^6 = 64\n",
      "2^7 = 128\n",
      "2^8 = 256\n",
      "2^9 = 512\n",
      "2^10 = 1024\n",
      "2^11 = 2048\n",
      "2^12 = 4096\n",
      "2^13 = 8192\n",
      "2^14 = 16384\n"
     ]
    }
   ],
   "source": [
    "esp = 0\n",
    "base = 2\n",
    "risultato = 0\n",
    "while risultato < 25000:\n",
    "    print(\"2^\", esp, \" = \", base**esp, sep = \"\")\n",
    "    esp += 1\n",
    "    risultato = base ** esp"
   ]
  },
  {
   "cell_type": "markdown",
   "id": "e2d876c2-376f-42fe-8e01-b1487dea9c5d",
   "metadata": {},
   "source": [
    "# Esercizio 6\n",
    "Abbiamo due liste, una di studenti e una di corsi. \n",
    "Aggiungere i dati mancanti alla lista corsi, sapendo che:\n",
    "* Emma segue Data Analyst\n",
    "* Faith segue Backend\n",
    "* Grace segue Frontend\n",
    "* Henry segue Cybersecurity\n",
    "\n",
    "Aggiungeremo i dati mancanti uno alla volta con il metodo per appendere in coda alle liste, poi verificheremo che sono della stessa lunghezza e se lo sono stamperemo la lista corsi. Se alcuni dati sono già presenti non vanno aggiunti di nuovo."
   ]
  },
  {
   "cell_type": "code",
   "execution_count": 21,
   "id": "406ade99-55bd-4acd-a7eb-8e5600631724",
   "metadata": {},
   "outputs": [
    {
     "name": "stdout",
     "output_type": "stream",
     "text": [
      "['Cybersecurity', 'Data Analyst', 'Backend', 'Frontend', 'Data Analyst', 'Backend', 'Frontend', 'Cybersecurity']\n"
     ]
    }
   ],
   "source": [
    "studenti = [\"Alex\", \"Bob\", \"Cindy\", \"Dan\", \"Emma\", \"Faith\", \"Grace\", \"Henry\"] \n",
    "corsi = [\"Cybersecurity\", \"Data Analyst\", \"Backend\", \"Frontend\", \"Data Analyst\", \"Backend\"]\n",
    "corsi.append('Frontend')\n",
    "corsi.append('Cybersecurity')\n",
    "if len(corsi) == len(studenti):\n",
    "    print(corsi)"
   ]
  },
  {
   "cell_type": "markdown",
   "id": "7fabeb09-f802-4f52-b00e-7b2955ed10bb",
   "metadata": {},
   "source": [
    "# Esercizio 7\n",
    "Scriviamo un programma che chiede in input all'utente una stringa e visualizza i primi 3 caratteri, seguiti da 3 punti di sospensione e quindi gli ultimi 3 caratteri, similmente all'esercizio della lezione scorsa. Stavolta facciamo attenzione a tutti i casi particolari, ovvero implementare soluzioni ad hoc per stringhe di lunghezza inferiore a 6 caratteri."
   ]
  },
  {
   "cell_type": "code",
   "execution_count": 18,
   "id": "6816a8d5-5b2b-4f84-82e6-a1b7e13fa57b",
   "metadata": {},
   "outputs": [
    {
     "name": "stdin",
     "output_type": "stream",
     "text": [
      "Inserisci una parola: Giraffa\n"
     ]
    },
    {
     "name": "stdout",
     "output_type": "stream",
     "text": [
      "Gir ... ffa\n"
     ]
    }
   ],
   "source": [
    "stringa = input(\"Inserisci una parola:\")\n",
    "if len(stringa) < 6:\n",
    "    print(stringa)\n",
    "else:\n",
    "    print(stringa[:3],'...',stringa[-3:])"
   ]
  },
  {
   "cell_type": "markdown",
   "id": "0246e230-496c-494b-b089-d1370365d2b6",
   "metadata": {},
   "source": [
    "# Esercizio 8\n",
    "Memorizza e stampa tutti i fattori di un numero dato in input. Esempio: input 150; output [2, 3, 5, 5]."
   ]
  },
  {
   "cell_type": "code",
   "execution_count": 11,
   "id": "e2f7adb1-2a2e-4426-9bfd-f17aa1506c95",
   "metadata": {},
   "outputs": [
    {
     "name": "stdin",
     "output_type": "stream",
     "text": [
      "Inserisci un numero: 200\n"
     ]
    },
    {
     "name": "stdout",
     "output_type": "stream",
     "text": [
      "I fattori sono [2, 2, 2, 5, 5]\n"
     ]
    }
   ],
   "source": [
    "numero = input(\"Inserisci un numero:\")\n",
    "numero = int(numero)\n",
    "divisore = 2\n",
    "lista_divisori = []\n",
    "\n",
    "while numero != 1:\n",
    "    while numero%divisore == 0:\n",
    "        numero = numero//divisore\n",
    "        lista_divisori.append(divisore)\n",
    "    divisore += 1\n",
    "print(\"I fattori sono\", lista_divisori)"
   ]
  },
  {
   "cell_type": "markdown",
   "id": "b537d60d-5b62-474e-a1fb-a69bb763391f",
   "metadata": {},
   "source": [
    "# Esercizio 9\n",
    "Abbiamo la stringa: nome_scuola = \"Epicode\" , stampare ogni carattere della stringa, uno su ogni riga, utilizzando un costrutto for."
   ]
  },
  {
   "cell_type": "code",
   "execution_count": 12,
   "id": "f1b76483-7c63-43e6-8e12-7a8892a609f8",
   "metadata": {},
   "outputs": [
    {
     "name": "stdout",
     "output_type": "stream",
     "text": [
      "E\n",
      "p\n",
      "i\n",
      "c\n",
      "o\n",
      "d\n",
      "e\n"
     ]
    }
   ],
   "source": [
    "nome_scuola = 'Epicode'\n",
    "for lettera in nome_scuola:\n",
    "    print(lettera)"
   ]
  },
  {
   "cell_type": "markdown",
   "id": "5754daef-a7a0-42af-9375-210570eb4d77",
   "metadata": {},
   "source": [
    "# Esercizio 10\n",
    "Calcolare (ma non stampare) le prime N potenze di K; ognuna di esse andrà memorizzata in coda a una lista. \n",
    "Alla fine, stampare la lista risultante. Proviamo con diversi valori di K, oppure facciamola inserire all'utente.\n",
    "Utilizzare un ciclo while."
   ]
  },
  {
   "cell_type": "code",
   "execution_count": 15,
   "id": "3e3fccf9-a37b-486c-881f-68c8de33e181",
   "metadata": {},
   "outputs": [
    {
     "name": "stdin",
     "output_type": "stream",
     "text": [
      "Inserisci N:  2\n",
      "Inserisci K:  5\n"
     ]
    },
    {
     "name": "stdout",
     "output_type": "stream",
     "text": [
      "Calcolo le prime 2 potenze di 5\n",
      "Risultati: [1, 5]\n"
     ]
    }
   ],
   "source": [
    "N = input('Inserisci N: ') #prime N potenze\n",
    "K = input('Inserisci K: ')\n",
    "N = int(N) #casting\n",
    "K = int(K)\n",
    "esponente = 0\n",
    "risultati = [] #conterrà i risultati\n",
    "\n",
    "print('Calcolo le prime', N, 'potenze di', K)\n",
    "\n",
    "while esponente < N:\n",
    "    risultato = K ** esponente\n",
    "    #print(risultato)\n",
    "    risultati.append(risultato)\n",
    "    esponente += 1\n",
    "\n",
    "print('Risultati:', risultati)"
   ]
  },
  {
   "cell_type": "markdown",
   "id": "d3e38da0-5ef8-4c97-ae57-6159a5879762",
   "metadata": {},
   "source": [
    "# Esercizio 11\n",
    "Calcolare (ma non stampare) le prime N potenze di K; ognuna di esse andrà memorizzata in coda a una lista. \n",
    "Alla fine, stampare la lista risultante. Proviamo con diversi valori di K, oppure facciamola inserire all'utente.\n",
    "Utilizzare un ciclo for."
   ]
  },
  {
   "cell_type": "code",
   "execution_count": 2,
   "id": "50f1bea2-5e4b-41f5-a32c-67ebb66fe951",
   "metadata": {},
   "outputs": [
    {
     "name": "stdin",
     "output_type": "stream",
     "text": [
      "Inserisci N:  4\n",
      "Inserisci K:  6\n"
     ]
    },
    {
     "name": "stdout",
     "output_type": "stream",
     "text": [
      "Calcolo le prime 4 potenze di 6\n",
      "Risultati:  [1, 6, 36, 216]\n"
     ]
    }
   ],
   "source": [
    "N = input('Inserisci N: ')\n",
    "N = int(N)\n",
    "esponenti = list(range(N))\n",
    "K = input('Inserisci K: ')\n",
    "K = int(K)\n",
    "risultati = [] #lista vuota\n",
    "\n",
    "print('Calcolo le prime', N, 'potenze di', K)\n",
    "\n",
    "for esponente in esponenti:\n",
    "    risultato = K**esponente\n",
    "    risultati.append(risultato)\n",
    "\n",
    "print('Risultati: ', risultati)"
   ]
  },
  {
   "cell_type": "markdown",
   "id": "4daec27a-02ac-4293-9865-dbd6ab5e07fb",
   "metadata": {},
   "source": [
    "# Esercizio 12\n",
    "Abbiamo una lista con i guadagni degli ultimi 12 mesi, usando un costrutto for, calcolare la media dei guadagni e stamparla a video."
   ]
  },
  {
   "cell_type": "code",
   "execution_count": 3,
   "id": "59f5cbd6-4944-466b-a29b-2b8e1200f7eb",
   "metadata": {},
   "outputs": [
    {
     "name": "stdout",
     "output_type": "stream",
     "text": [
      "70.0\n"
     ]
    }
   ],
   "source": [
    "guadagni = [100, 90, 70, 40, 50, 80, 90, 120, 80, 20, 50, 50]\n",
    "mesi = len(guadagni)\n",
    "somma = 0\n",
    "for guadagno in guadagni:\n",
    "    somma += guadagno\n",
    "\n",
    "risultato = somma/mesi\n",
    "print(risultato)"
   ]
  },
  {
   "cell_type": "markdown",
   "id": "23681581-cb45-4b26-a0de-bd3543e49ca6",
   "metadata": {},
   "source": [
    "# Esercizio 13\n",
    "Abbiamo una lista di parole: stampiamo, per ogni parola, quante volte appare la lettera \"e\"; facciamo attenzione al fatto che appare sia maiuscola che minuscola."
   ]
  },
  {
   "cell_type": "code",
   "execution_count": 53,
   "id": "ac872581-6bff-4607-bdda-fafd3bd4642f",
   "metadata": {},
   "outputs": [
    {
     "name": "stdout",
     "output_type": "stream",
     "text": [
      "\u001b[1mParola            Numero di E contenute \u001b[0m\n",
      "Albergo                     1       \n",
      "Sedia                       1       \n",
      "Borgo                       0       \n",
      "Petalo                      1       \n",
      "Eremo                       2       \n",
      "Belvedere                   4       \n",
      "Semestre                    3       \n",
      "Esteta                      2       \n",
      "Sosta                       0       \n",
      "Orpello                     1       \n",
      "Abete                       2       \n",
      "Orologio                    0       \n",
      "Cesta                       1       \n",
      "Ermellino                   2       \n"
     ]
    }
   ],
   "source": [
    "parole = [\"Albergo\", \"Sedia\", \"Borgo\", \"Petalo\", \"Eremo\", \"Belvedere\", \"Semestre\", \"Esteta\", \n",
    "          \"Sosta\", \"Orpello\", \"Abete\", \"Orologio\", \"Cesta\", \"Ermellino\"] \n",
    "\n",
    "bold_code = '\\033[1m'\n",
    "reset_code = '\\033[0m'\n",
    "print(f\"{bold_code + 'Parola':<20} {' Numero di E contenute ' + reset_code:^15}\")\n",
    "\n",
    "for parola in parole:\n",
    "    contatore = 0\n",
    "    for lettera in parola:\n",
    "        if lettera == 'e' or lettera == 'E':\n",
    "            contatore += 1\n",
    "    print(f\"{parola:<20} {contatore:^15}\")"
   ]
  },
  {
   "cell_type": "markdown",
   "id": "daafdbf0-11cf-4ef7-98ce-7105ec8dd034",
   "metadata": {},
   "source": [
    "# Esercizio 14\n",
    "Creiamo un dizionario che assegni ad ogni proprietario la sua auto, sapendo che: \n",
    "* Ada guida una Punto \n",
    "* Ben guida una Multipla \n",
    "* Charlie guida una Golf \n",
    "* Debbie guida una 107 \n",
    "\n",
    "Stampiamo il dizionario per intero, e poi l'auto associata a Debbie.\n"
   ]
  },
  {
   "cell_type": "code",
   "execution_count": 55,
   "id": "5f0f2c0a-5bd7-4f25-bf48-5a511aa0f0a4",
   "metadata": {},
   "outputs": [
    {
     "name": "stdout",
     "output_type": "stream",
     "text": [
      "{'Ada': 'Punto', 'Ben': 'Multipla', 'Charlie': 'Golf', 'Debbie': '107'}\n",
      "107\n"
     ]
    }
   ],
   "source": [
    "proprietari = {\"Ada\":\"Punto\",\"Ben\":\"Multipla\",\"Charlie\":\"Golf\",\"Debbie\":\"107\"}\n",
    "print(proprietari)\n",
    "print(proprietari[\"Debbie\"])"
   ]
  },
  {
   "cell_type": "markdown",
   "id": "d79f2c4e-b480-41a3-a315-25cda6d5273f",
   "metadata": {},
   "source": [
    "# Esercizio 15\n",
    "Abbiamo un dizionario che assegna ad ogni proprietario la sua auto. Con un ciclo stampiamo a video tutte le auto che non sono una Multipla."
   ]
  },
  {
   "cell_type": "code",
   "execution_count": 70,
   "id": "0a798360-e227-411e-8c25-029fda8adf1d",
   "metadata": {},
   "outputs": [
    {
     "name": "stdout",
     "output_type": "stream",
     "text": [
      "Punto\n",
      "Golf\n",
      "107\n"
     ]
    }
   ],
   "source": [
    "dizionario_auto = {\"Ada\": \"Punto\", \"Ben\": \"Multipla\", \"Charlie\": \"Golf\", \"Debbie\": \"107\"}\n",
    "for i in dizionario_auto:\n",
    "    if dizionario_auto[i] != \"Multipla\":\n",
    "        print(dizionario_auto[i])"
   ]
  },
  {
   "cell_type": "markdown",
   "id": "c20732b2-9d6a-4405-82d0-33cebede57cb",
   "metadata": {},
   "source": [
    "# Esercizio 16\n",
    "Abbiamo due dizionari che assegnano ad ogni proprietario la propria auto.\n",
    "Aggiornare il dizionario \"dizionario_auto\" con i dati contenuti in nuovi_proprietari e stamparlo. Cosa è successo a Ben?"
   ]
  },
  {
   "cell_type": "code",
   "execution_count": 72,
   "id": "6a08103f-23aa-4602-b27f-fdb0b1867d97",
   "metadata": {},
   "outputs": [
    {
     "name": "stdout",
     "output_type": "stream",
     "text": [
      "{'Ada': 'Punto', 'Ben': 'Polo', 'Charlie': 'Golf', 'Debbie': '107', 'Emily': 'A1', 'Fred': 'Octavia', 'Grace': 'Yaris', 'Hugh': 'Clio'}\n"
     ]
    }
   ],
   "source": [
    "dizionario_auto = {\"Ada\": \"Punto\", \"Ben\": \"Multipla\", \"Charlie\": \"Golf\", \"Debbie\": \"107\", \"Emily\": \"A1\"} \n",
    "nuovi_proprietari = {\"Ben\": \"Polo\", \"Fred\": \"Octavia\", \"Grace\": \"Yaris\", \"Hugh\": \"Clio\"}\n",
    "dizionario_auto.update(nuovi_proprietari)\n",
    "print(dizionario_auto)"
   ]
  },
  {
   "cell_type": "markdown",
   "id": "bb8e7f4c-4e9c-4c34-8ebc-59d3e96cfdf4",
   "metadata": {},
   "source": [
    "# Esercizio 17\n",
    "Scrivere un programma che, data una lista di numeri, fornisca in output il minimo e il massimo (possiamo usare o meno le funzioni built-in min() e max())."
   ]
  },
  {
   "cell_type": "code",
   "execution_count": 73,
   "id": "fd5ae362-63f9-452c-b1af-2d713aa57148",
   "metadata": {},
   "outputs": [
    {
     "name": "stdout",
     "output_type": "stream",
     "text": [
      "Il massimo è: 120\n",
      "Il minimo è: 20\n"
     ]
    }
   ],
   "source": [
    "numeri = [100, 90, 70, 40, 50, 80, 90, 120, 80, 20, 50, 50]\n",
    "MAX = max(numeri)\n",
    "MIN = min(numeri)\n",
    "print('Il massimo è:', MAX)\n",
    "print('Il minimo è:', MIN)"
   ]
  },
  {
   "cell_type": "markdown",
   "id": "90986d60-a5c6-4853-9137-2dd1413b1062",
   "metadata": {},
   "source": [
    "# Esercizio 18\n",
    "Scrivere un programma che, data una lista di numeri, fornisca in output i tre numeri più grandi. \n",
    "Gestire il caso in cui la lista sia più corta di tre, e quando uno o più dei numeri selezionati sono uguali. "
   ]
  },
  {
   "cell_type": "code",
   "execution_count": 3,
   "id": "52535b2f-95bc-4723-b380-2890e9e12fce",
   "metadata": {},
   "outputs": [
    {
     "name": "stdout",
     "output_type": "stream",
     "text": [
      "[120, 100, 90]\n"
     ]
    }
   ],
   "source": [
    "numeri = [100, 90, 70, 40, 50, 80, 90, 120, 80, 20, 50, 50]\n",
    "tre_numeri_piu_grandi = []\n",
    "\n",
    "if len(numeri) > 3:\n",
    "    for _ in range(3):\n",
    "        massimo = max(numeri)\n",
    "        tre_numeri_piu_grandi.append(massimo)\n",
    "        numeri.remove(massimo)\n",
    "else:\n",
    "    tre_numeri_piu_grandi = numeri\n",
    "\n",
    "print(tre_numeri_piu_grandi)"
   ]
  },
  {
   "cell_type": "markdown",
   "id": "1e920f9a-7aaa-4c0e-aec3-f76bc09255db",
   "metadata": {},
   "source": [
    " # Esercizio 19\n",
    "Scrivere un programma che \n",
    "* in input acquisisce una lista di numeri e un numero K\n",
    "* in output, dovrà restituire la media di tutti i numeri nella lista maggiori o uguali a K\n",
    "* se non ce ne dovesse essere nessuno, dovrà stampare a schermo un messaggio adeguato."
   ]
  },
  {
   "cell_type": "code",
   "execution_count": 17,
   "id": "0eea577e-6874-4f76-ad15-b29ca375737c",
   "metadata": {},
   "outputs": [
    {
     "name": "stdin",
     "output_type": "stream",
     "text": [
      "Inserisci una lista di numeri: 10 20 30\n",
      "Inserisci K: 5\n"
     ]
    },
    {
     "name": "stdout",
     "output_type": "stream",
     "text": [
      "20.0\n"
     ]
    }
   ],
   "source": [
    "lista = input(\"Inserisci una lista di numeri:\").split()\n",
    "lista2 = []\n",
    "for numero in lista:\n",
    "    numero = int(numero)\n",
    "    lista2.append(numero)\n",
    "#lista2 = [int(n) for n in lista]\n",
    "\n",
    "k = input(\"Inserisci K:\")\n",
    "k = int(k)\n",
    "\n",
    "somma = 0\n",
    "n = 0\n",
    "for elemento in lista2:\n",
    "    if elemento >= k:\n",
    "        somma += elemento\n",
    "        n += 1\n",
    "if (n!=0):\n",
    "    print(somma/n)\n",
    "else:\n",
    "    print(\"Non ci sono numeri di cui calcolare la media\")"
   ]
  },
  {
   "cell_type": "markdown",
   "id": "ea29f1b8-598b-4f5b-b1cc-3ddf8ad6a852",
   "metadata": {},
   "source": [
    "# Esercizio 20\n",
    "Scrivere un programma che, data una lista di numeri, come output stamperà lo stesso numero di asterischi su righe diverse, ottenendo una semplice visualizzazione grafica."
   ]
  },
  {
   "cell_type": "code",
   "execution_count": 18,
   "id": "d7144af5-0315-47aa-b0a0-54b20706483d",
   "metadata": {},
   "outputs": [
    {
     "name": "stdin",
     "output_type": "stream",
     "text": [
      "Inserisci una lista di numeri: 5 6 2 1\n"
     ]
    },
    {
     "name": "stdout",
     "output_type": "stream",
     "text": [
      "*****\n",
      "******\n",
      "**\n",
      "*\n"
     ]
    }
   ],
   "source": [
    "lista = input(\"Inserisci una lista di numeri:\").split()\n",
    "numeri = []\n",
    "for numero in lista:\n",
    "    numero = int(numero)\n",
    "    numeri.append(numero)\n",
    "    \n",
    "for numero in numeri:\n",
    "    graph = '*' * numero\n",
    "    print(graph)\n"
   ]
  },
  {
   "cell_type": "markdown",
   "id": "00907ef0-1f54-4daf-a272-8f58de1197b6",
   "metadata": {},
   "source": [
    "# Esercizio 21\n",
    "Abbiamo una lista di codici fiscali: trovare i codici fiscali che contengono \"95\", metterli in una lista, e alla fine stamparla; inoltre, per ognuno di essi, stampare a video i caratteri relativi al nome e quelli relativi al cognome."
   ]
  },
  {
   "cell_type": "code",
   "execution_count": 19,
   "id": "ec63ef44-6bea-43b9-b683-f94c560cc61c",
   "metadata": {},
   "outputs": [
    {
     "name": "stdout",
     "output_type": "stream",
     "text": [
      "ABCDEF95G01A123B -nome: DEF -cognome ABC\n",
      "STUVWX95Z04A654E -nome: VWX -cognome STU\n",
      "DEFGHI95J06A987G -nome: GHI -cognome DEF\n",
      "['ABCDEF95G01A123B', 'STUVWX95Z04A654E', 'DEFGHI95J06A987G']\n"
     ]
    }
   ],
   "source": [
    "lista_cf = [\"ABCDEF95G01A123B\", \"GHIJKL91M02A321C\", \"MNOPQR89S03A456D\", \"STUVWX95Z04A654E\", \"XYZABC01D05A789F\", \"DEFGHI95J06A987G\"]\n",
    "lista_95 = []\n",
    "for cf in lista_cf:\n",
    "    if '95' in cf:\n",
    "        lista_95.append(cf)\n",
    "        caratteri_cognome = cf[:3]\n",
    "        caratteri_nome = cf[3:6]\n",
    "        print(cf, '-nome:', caratteri_nome, '-cognome', caratteri_cognome)\n",
    "print(lista_95)"
   ]
  },
  {
   "cell_type": "markdown",
   "id": "32cd9276-4f48-4706-a925-eebe3271a0a8",
   "metadata": {},
   "source": [
    "# Esercizio 22\n",
    "Abbiamo tre liste della stessa lunghezza, dove ogni elemento nella medesima posizione si riferisce ai dati dello stesso studente.\n",
    "Stampare a video tutti e soli gli studenti che frequentano una prima edizione; non tutti i dati potrebbero essere necessari. \n",
    "Riuscite a vedere una similarità con la logica che si usa in SQL e le tabelle relazionali?\n"
   ]
  },
  {
   "cell_type": "code",
   "execution_count": 55,
   "id": "6988498b-0944-461d-a5cc-f0ac3c0eb363",
   "metadata": {},
   "outputs": [
    {
     "name": "stdout",
     "output_type": "stream",
     "text": [
      "Alex\n",
      "Faith\n"
     ]
    }
   ],
   "source": [
    "studenti = [\"Alex\", \"Bob\", \"Cindy\", \"Dan\", \"Emma\", \"Faith\", \"Grace\", \"Henry\"] \n",
    "corsi = [\"Cybersecurity\", \"Data Analyst\", \"Backend\", \"Frontend\", \"Data Analyst\", \"Backend\", \"Frontend\", \"Cybersecurity\"] \n",
    "edizioni = [1, 2, 3, 2, 2, 1, 3, 3] \n",
    "indici = range(len(studenti))\n",
    "indici = list(indici) #casting\n",
    "\n",
    "for indice in indici:\n",
    "    studente = studenti[indice]\n",
    "    edizione = edizioni[indice]\n",
    "    if edizione == 1:\n",
    "        print(studente)"
   ]
  },
  {
   "cell_type": "code",
   "execution_count": 58,
   "id": "16508c31-6532-4a7e-bbd4-83652dabb4bb",
   "metadata": {},
   "outputs": [
    {
     "name": "stdout",
     "output_type": "stream",
     "text": [
      "Help on built-in function find:\n",
      "\n",
      "find(...) method of builtins.str instance\n",
      "    S.find(sub[, start[, end]]) -> int\n",
      "    \n",
      "    Return the lowest index in S where substring sub is found,\n",
      "    such that sub is contained within S[start:end].  Optional\n",
      "    arguments start and end are interpreted as in slice notation.\n",
      "    \n",
      "    Return -1 on failure.\n",
      "\n"
     ]
    }
   ],
   "source": [
    "help(parola.find)"
   ]
  },
  {
   "cell_type": "markdown",
   "id": "f5dc87a2-bf24-4ea8-93fc-51f69f7849b6",
   "metadata": {},
   "source": [
    "# Esercizio 23\n",
    "Abbiamo una lista di stringhe di prezzi in dollari, che erroneamente sono stati scritti con il simbolo dell'euro. Cambiare il simbolo dell'euro (€) in quello del dollaro ($) per ogni stringa nella lista; il risultato sarà memorizzato in un'altra lista."
   ]
  },
  {
   "cell_type": "code",
   "execution_count": 15,
   "id": "4035afb0-42af-4721-ac6a-9fcf8295ad5a",
   "metadata": {},
   "outputs": [
    {
     "name": "stdout",
     "output_type": "stream",
     "text": [
      "['100 $', '200 $', '500 $', '10 $', '50 $', '70 $']\n"
     ]
    }
   ],
   "source": [
    "prezzi = [\"100 €\", \"200 €\", \"500 €\", \"10 €\", \"50 €\", \"70 €\"]\n",
    "nuovi_prezzi = []\n",
    "for prezzo in prezzi:\n",
    "    nuovi_prezzi.append(prezzo.replace(\"€\",\"$\"))\n",
    "print(nuovi_prezzi)"
   ]
  },
  {
   "cell_type": "markdown",
   "id": "e5ed269d-263d-4d50-bb1b-e0858b31be26",
   "metadata": {},
   "source": [
    "# Esercizio 24\n",
    "Abbiamo una lista di studenti e vogliamo dividere gli studenti in due squadre per un campionato di Uno nel seguente modo: selezioneremo i nomi in posizione pari per un squadra, e i nomi in posizione dispari per l'altra. Creiamo due liste per ogni squadra, e alla fine visualizziamole."
   ]
  },
  {
   "cell_type": "code",
   "execution_count": 41,
   "id": "ca89981e-620d-4b24-9b1d-ee038a95907a",
   "metadata": {},
   "outputs": [
    {
     "name": "stdout",
     "output_type": "stream",
     "text": [
      "Squadra 1: ['Alex', 'Cindy', 'Emma', 'Grace', 'Isabelle'] \n",
      "Squadra 2: ['Bob', 'Dan', 'Faith', 'Henry', 'John']\n"
     ]
    }
   ],
   "source": [
    "studenti = [\"Alex\", \"Bob\", \"Cindy\", \"Dan\", \"Emma\", \"Faith\", \"Grace\", \"Henry\", \"Isabelle\", \"John\"]\n",
    "squadra_dispari = studenti[0::2]\n",
    "squadra_pari = studenti[1::2]\n",
    "print(\"Squadra 1:\", squadra_dispari, \"\\nSquadra 2:\", squadra_pari)"
   ]
  },
  {
   "cell_type": "markdown",
   "id": "ee4b6a2d-f94e-4ca5-8243-4cd7148303a1",
   "metadata": {},
   "source": [
    "# Esercizio 25\n",
    "Abbiamo una lista con i guadagni degli ultimi 12 mesi (supponiamo da Gennaio a Dicembre), dobbiamo confrontare, stampando tutto a video, il guadagno di ogni mese con la media dei guadagni precedenti, e specificare nell'output se il guadagno attuale è maggiore o minore della media dei precedenti.  \n",
    "Esempio di un possibile output: Mese 1: 100 € Mese 2: 90 € (media prec: 100 € - il guadagno attuale è minore)"
   ]
  },
  {
   "cell_type": "code",
   "execution_count": 71,
   "id": "6a11f68f-ceb6-4011-ae9f-05128769aac2",
   "metadata": {},
   "outputs": [
    {
     "name": "stdout",
     "output_type": "stream",
     "text": [
      "Guadagno mese 1: 100 €\n",
      "Guadagno mese 2: 90 €\tMedia mesi precedenti: 100.00 €\tIl guadagno attuale è minore\n",
      "Guadagno mese 3: 70 €\tMedia mesi precedenti: 95.00 €\tIl guadagno attuale è minore\n",
      "Guadagno mese 4: 40 €\tMedia mesi precedenti: 86.67 €\tIl guadagno attuale è minore\n",
      "Guadagno mese 5: 50 €\tMedia mesi precedenti: 75.00 €\tIl guadagno attuale è minore\n",
      "Guadagno mese 6: 80 €\tMedia mesi precedenti: 70.00 €\tIl guadagno attuale è maggiore\n",
      "Guadagno mese 7: 90 €\tMedia mesi precedenti: 71.67 €\tIl guadagno attuale è maggiore\n",
      "Guadagno mese 8: 120 €\tMedia mesi precedenti: 74.29 €\tIl guadagno attuale è maggiore\n",
      "Guadagno mese 9: 80 €\tMedia mesi precedenti: 80.00 €\tIl guadagno attuale è maggiore\n",
      "Guadagno mese 10: 20 €\tMedia mesi precedenti: 80.00 €\tIl guadagno attuale è minore\n",
      "Guadagno mese 11: 50 €\tMedia mesi precedenti: 74.00 €\tIl guadagno attuale è minore\n",
      "Guadagno mese 12: 50 €\tMedia mesi precedenti: 71.82 €\tIl guadagno attuale è minore\n"
     ]
    }
   ],
   "source": [
    "guadagni = [100, 90, 70, 40, 50, 80, 90, 120, 80, 20, 50, 50]\n",
    "\n",
    "somma_prec = 0\n",
    "media_prec = 0\n",
    "for i in range(len(guadagni)):\n",
    "    if i == 0:\n",
    "        print(\"Guadagno mese \", i+1, \": \", guadagni[i], \" €\", sep = \"\")\n",
    "    if i > 0:\n",
    "        somma_prec += guadagni[i-1]\n",
    "        media_prec = somma_prec / i\n",
    "        if guadagni[i] < media_prec:\n",
    "            print(\"Guadagno mese \", i+1, \": \", guadagni[i], \" €\", \"\\tMedia mesi precedenti: \", \"%.2f\" % media_prec, \" €\", \"\\tIl guadagno attuale è minore\", sep = \"\")\n",
    "        else:\n",
    "            print(\"Guadagno mese \", i+1, \": \", guadagni[i], \" €\", \"\\tMedia mesi precedenti: \", \"%.2f\" % media_prec, \" €\", \"\\tIl guadagno attuale è maggiore\", sep = \"\")"
   ]
  },
  {
   "cell_type": "code",
   "execution_count": null,
   "id": "f9b9fd20-a16f-4443-867a-726236b5aacc",
   "metadata": {},
   "outputs": [],
   "source": []
  }
 ],
 "metadata": {
  "kernelspec": {
   "display_name": "Python 3 (ipykernel)",
   "language": "python",
   "name": "python3"
  },
  "language_info": {
   "codemirror_mode": {
    "name": "ipython",
    "version": 3
   },
   "file_extension": ".py",
   "mimetype": "text/x-python",
   "name": "python",
   "nbconvert_exporter": "python",
   "pygments_lexer": "ipython3",
   "version": "3.11.7"
  }
 },
 "nbformat": 4,
 "nbformat_minor": 5
}
