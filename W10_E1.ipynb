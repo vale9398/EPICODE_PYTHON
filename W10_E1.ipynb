{
 "cells": [
  {
   "cell_type": "markdown",
   "id": "c182aa91-6409-4517-8727-4055eb8b9ef2",
   "metadata": {},
   "source": [
    "# Esercizio 1\n",
    "Abbiamo una lista di liste, che tipo di struttura dati o matematica potrebbe rappresentare? \n",
    "Tutte le liste \"interne\" sono della stessa dimensione. Come facciamo per accedere ad un elemento in particolare?"
   ]
  },
  {
   "cell_type": "code",
   "execution_count": 5,
   "id": "565642d5-8d59-4193-bc5d-bc3cf09dbada",
   "metadata": {},
   "outputs": [
    {
     "name": "stdout",
     "output_type": "stream",
     "text": [
      "[5, 6, 7, 8, 9]\n",
      "12\n",
      "Il quinto elemento della seconda lista è 9\n",
      "Abbiamo una matrice di forma (3, 5)\n",
      "Il valore medio è 7.0\n"
     ]
    }
   ],
   "source": [
    "mat = [[0, 1, 2, 3, 4], [5, 6, 7, 8, 9], [10, 11, 12, 13, 14]] #rappresenta una matrice, una tabella\n",
    "\n",
    "print(mat[1]) #stampo la seconda lista\n",
    "\n",
    "print(mat[2][2]) #stampo il terzo elemento dela terza lista\n",
    "\n",
    "import numpy as np\n",
    "arr = np.array(mat)\n",
    "elemento1 = arr[1,4] #quinto elemento della seconda lista\n",
    "print(\"Il quinto elemento della seconda lista è\", elemento1)\n",
    "forma = arr.shape #indica quante righe e clonne ha la matrice\n",
    "print(\"Abbiamo una matrice di forma\", forma)\n",
    "media = arr.mean() #calcola la media\n",
    "print(\"Il valore medio è\", media)"
   ]
  },
  {
   "cell_type": "markdown",
   "id": "1937380e-259b-4216-9586-923e450acbfc",
   "metadata": {},
   "source": [
    "# Esercizio 2\n",
    "Importiamo il modulo math e proviamo a usare le funzioni sin() cos() factorial() e la variabile pi, la riconoscete?"
   ]
  },
  {
   "cell_type": "code",
   "execution_count": 10,
   "id": "279dd90b-0402-408d-94f7-bf64ee4ac276",
   "metadata": {},
   "outputs": [
    {
     "name": "stdout",
     "output_type": "stream",
     "text": [
      "π = 3.141592653589793 \n",
      "sen(0.5π) = 1.0 \n",
      "cos(2π) = 1.0 \n",
      "4! = 24\n"
     ]
    }
   ],
   "source": [
    "import math\n",
    "pi_greco = math.pi\n",
    "sen_pi = math.sin(0.5*pi_greco)\n",
    "cos_pi = math.cos(2*pi_greco)\n",
    "fact = math.factorial(4)\n",
    "print('π =', pi_greco, '\\nsen(0.5π) =', sen_pi, '\\ncos(2π) =', cos_pi, '\\n4! =', fact)"
   ]
  },
  {
   "cell_type": "markdown",
   "id": "086214ab-347b-4c8e-a9ed-286cc6dddfc4",
   "metadata": {},
   "source": [
    "# Esercizio 3\n",
    "Proviamo a eseguire math.degrees(math.pi). Qual è e cosa significa il risultato? \n",
    "Per saperne di più su questa funzione possiamo usare help(math.degrees)"
   ]
  },
  {
   "cell_type": "code",
   "execution_count": 12,
   "id": "eadca049-8636-4401-b74f-d22cd6562965",
   "metadata": {},
   "outputs": [
    {
     "name": "stdout",
     "output_type": "stream",
     "text": [
      "π corrisponde a 180.0°\n",
      "2π corrisponde a 360.0°\n",
      "π/2 corrisponde a 90.0°\n"
     ]
    }
   ],
   "source": [
    "pi_greco = math.degrees(math.pi) #la funzione degrees trasforma i radianti in gradi\n",
    "due_pi_greco = math.degrees(2*math.pi)\n",
    "pi_greco_mezzi = math.degrees(0.5*math.pi)\n",
    "print('π corrisponde a ',pi_greco,'°','\\n2π corrisponde a ',due_pi_greco,'°','\\nπ/2 corrisponde a ',pi_greco_mezzi,'°', sep = \"\")"
   ]
  },
  {
   "cell_type": "markdown",
   "id": "03966aa5-87ca-44b3-a4f3-860af78f4a7c",
   "metadata": {},
   "source": [
    "# Esercizio 4\n",
    "L'azienda Object SpA ha creato una lista di quanti oggetti ha venduto ogni mese nell'ultimo anno. \n",
    "Trasformiamola in un array NumPy (casting) e rispondiamo alle domande del CEO della Object SpA:\n",
    "* qual è stata la vendita massima mensile? E quella minima?\n",
    "* quali sono le vendite mensili maggiori di 4999 oggetti? E quante ne sono?\n",
    "* quali sono le vendite minori di 3000 oggetti?\n",
    "* in media quanti oggetti sono stati venduti al mese?"
   ]
  },
  {
   "cell_type": "code",
   "execution_count": 19,
   "id": "8343c831-33f4-4775-8db9-387b9207565d",
   "metadata": {},
   "outputs": [
    {
     "name": "stdout",
     "output_type": "stream",
     "text": [
      "La vendita massima in un mese è pari a 8150 pezzi \n",
      "La vendita minima in un mese è pari a 1280 pezzi\n",
      "Le vendite in cui si sono venduti più di 4999 oggetti sono: [5500 7200 6410 8150 7100 5350]\n",
      "Nell'ultimo anno si sono venduti più di 4999 oggetti in (6,) mesi\n",
      "Le vendite in cui si sono venduti meno di 3000 oggetti sono: [2000 1280 1900 2500]\n",
      "In media nell'ultimo anno si sono venduti 4634.166666666667 oggetti al mese\n"
     ]
    }
   ],
   "source": [
    "lst = [2000, 5500, 7200, 4320, 1280, 1900, 2500, 3900, 6410, 8150, 7100, 5350]\n",
    "import numpy as np\n",
    "lst = np.array(lst)\n",
    "\n",
    "# qual è stata la vendita massima mensile? E quella minima?\n",
    "vendita_max = lst.max()\n",
    "vendita_min = lst.min()\n",
    "print('La vendita massima in un mese è pari a',vendita_max,'pezzi','\\nLa vendita minima in un mese è pari a',vendita_min,'pezzi')\n",
    "\n",
    "# quali sono le vendite mensili maggiori di 4999 oggetti? E quante ne sono?\n",
    "filtro_maggiore_4999 = lst > 4999\n",
    "grandi_vendite = lst[filtro_maggiore_4999] #lst[lst>4999]\n",
    "print(\"Le vendite in cui si sono venduti più di 4999 oggetti sono:\", grandi_vendite)\n",
    "numero_grandi_vendite = grandi_vendite.shape\n",
    "print(\"Nell'ultimo anno si sono venduti più di 4999 oggetti in\", numero_grandi_vendite, 'mesi')\n",
    "\n",
    "# quali sono le vendite minori di 3000 oggetti? \n",
    "filtro3k = lst < 3000\n",
    "piccole_vendite = lst[filtro3k]\n",
    "print(\"Le vendite in cui si sono venduti meno di 3000 oggetti sono:\", piccole_vendite)\n",
    "\n",
    "# in media quanti oggetti sono stati venduti al mese?\n",
    "media = lst.mean()\n",
    "print(\"In media nell'ultimo anno si sono venduti\", media, 'oggetti al mese')"
   ]
  },
  {
   "cell_type": "markdown",
   "id": "b14528b2-82ab-494b-a172-a0cb8ed83b4a",
   "metadata": {},
   "source": [
    "# Esercizio 5\n",
    "Consideriamo il seguente dizionario e la seguente Series. Qual è la differenza tra i due tipi di dato? Cosa potremmo fare con la Series che non possiamo fare con il dizionario?"
   ]
  },
  {
   "cell_type": "code",
   "execution_count": 24,
   "id": "a4ace2b2-0a00-4adb-a12d-b13fc6692007",
   "metadata": {},
   "outputs": [
    {
     "name": "stdout",
     "output_type": "stream",
     "text": [
      "Dizionario: {1997: 12000, 1998: 15000, 1999: 20000, 2000: 23000, 2001: 25000, 2002: 17000, 2003: 14000, 2004: 21000}\n",
      "Series: \n",
      "1997    12000\n",
      "1998    15000\n",
      "1999    20000\n",
      "2000    23000\n",
      "2001    25000\n",
      "2002    17000\n",
      "2003    14000\n",
      "2004    21000\n",
      "dtype: int64\n",
      "Fatturato 1997 della variabile dizionario: 12000\n",
      "Fatturato 1997 della variabile Series: 12000\n"
     ]
    }
   ],
   "source": [
    "#Dizionario: \n",
    "fatturati_dict = {1997: 12_000, 1998: 15_000, 1999: 20_000, 2000: 23_000, 2001: 25_000, 2002: 17_000, 2003: 14_000, 2004: 21_000}\n",
    "print(\"Dizionario:\", fatturati_dict)\n",
    "#Series:\n",
    "import pandas as pd\n",
    "fatturati_series = pd.Series([12_000, 15_000, 20_000, 23_000, 25_000, 17_000, 14_000, 21_000], index=range(1997, 2005))\n",
    "print(\"Series: \\n\", fatturati_series, sep = \"\")\n",
    "#Possiamo accedere alle stesse informazioni nello stesso modo:\n",
    "print(\"Fatturato 1997 della variabile dizionario:\", fatturati_dict[1997])\n",
    "print(\"Fatturato 1997 della variabile Series:\", fatturati_series[1997])\n",
    "\n",
    "#Risposta: Possiamo mettere più valori in uno stesso anno in quanto nel dizionario non si può ripetere il campo dell'anno"
   ]
  },
  {
   "cell_type": "markdown",
   "id": "4a70e32d-dcca-4e31-8d55-7a572dbd44d3",
   "metadata": {},
   "source": [
    "# Esercizio 6\n",
    "L'azienda Object SpA ha un dataset con tutti gli stipendi dei dipendenti memorizzato in un ndarray. L'azienda ci chiede di raddoppiare tutti gli stipendi, facciamolo con un ciclo for e con il masking."
   ]
  },
  {
   "cell_type": "code",
   "execution_count": 25,
   "id": "52286150-0e88-4bb9-af5f-7134833f321a",
   "metadata": {},
   "outputs": [
    {
     "name": "stdout",
     "output_type": "stream",
     "text": [
      "Qui di seguito la lista degli stipendi raddoppiati ottenuta col ciclo for: [200, 400, 600, 800, 1000, 1200, 1400, 1600, 1800, 2000]\n",
      "Qui di seguito la lista degli stipendi raddoppiati ottenuta col masking: [ 200  400  600  800 1000 1200 1400 1600 1800 2000]\n"
     ]
    }
   ],
   "source": [
    "import numpy as np \n",
    "stipendi = np.array( [100, 200, 300, 400, 500,  600, 700, 800, 900, 1000] ) \n",
    "\n",
    "#con un ciclo for \n",
    "stipendi_raddoppiati = []\n",
    "for stipendio in stipendi:\n",
    "    stipendi_raddoppiati.append(stipendio*2)\n",
    "print('Qui di seguito la lista degli stipendi raddoppiati ottenuta col ciclo for:',stipendi_raddoppiati)\n",
    "\n",
    "#con il masking\n",
    "stipendi_raddoppiati = stipendi*2\n",
    "print('Qui di seguito la lista degli stipendi raddoppiati ottenuta col masking:',stipendi_raddoppiati)"
   ]
  },
  {
   "cell_type": "code",
   "execution_count": null,
   "id": "0bbabee3-d7c4-4fe2-8f65-b572d121f61e",
   "metadata": {},
   "outputs": [],
   "source": []
  }
 ],
 "metadata": {
  "kernelspec": {
   "display_name": "Python 3 (ipykernel)",
   "language": "python",
   "name": "python3"
  },
  "language_info": {
   "codemirror_mode": {
    "name": "ipython",
    "version": 3
   },
   "file_extension": ".py",
   "mimetype": "text/x-python",
   "name": "python",
   "nbconvert_exporter": "python",
   "pygments_lexer": "ipython3",
   "version": "3.11.7"
  }
 },
 "nbformat": 4,
 "nbformat_minor": 5
}
